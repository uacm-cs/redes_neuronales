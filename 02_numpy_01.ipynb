{
 "cells": [
  {
   "cell_type": "markdown",
   "metadata": {},
   "source": [
    "![image](figs/fig-numpy.png)\n",
    "# Introducción a NumPy\n"
   ]
  },
  {
   "cell_type": "markdown",
   "metadata": {},
   "source": [
    "\n",
    "### - NumPy es una de las bibliotecas fundamentales en el ecosistema de Python para la ciencia de datos y la computación numérica. \n",
    "\n",
    "### - Proporciona soporte para arreglos multidimensionales y funciones matemáticas avanzadas.\n",
    "### - La convierte en una herramienta esencial para el análisis de datos\n",
    "\n",
    "### [https://numpy.org](https://numpy.org)\n",
    "# <br>\n",
    "# <br>\n",
    "# <br>"
   ]
  },
  {
   "cell_type": "markdown",
   "metadata": {},
   "source": [
    "\n",
    "## ¿Qué es NumPy?\n",
    "\n",
    "### NumPy (Numerical Python) es una biblioteca de Python que ofrece:\n",
    "\n",
    "###  - **Arreglos multidimensionales:** Estructuras de datos eficientes para almacenar y manipular grandes conjuntos de datos numéricos.\n",
    "\n",
    "### - **Funciones matemáticas avanzadas:** Operaciones matemáticas y estadísticas que funcionan de manera eficiente en arreglos completos.\n",
    "\n",
    "### - **Operaciones vectorizadas:** Cálculos rápidos sin necesidad de bucles explícitos, gracias a la implementación en C.\n",
    "\n",
    "# <br>\n",
    "# <br>\n",
    "# <br>\n"
   ]
  },
  {
   "cell_type": "markdown",
   "metadata": {},
   "source": [
    "\n",
    "# Contenido del Tutorial\n",
    "\n",
    "###  1. **Instalación de NumPy**\n",
    "  #### - Cómo instalar NumPy usando `pip` o `conda`.\n",
    "\n",
    "### 2. **Conceptos Básicos de Arreglos**\n",
    "   #### - Creación de arreglos con `np.array()`.\n",
    "   #### - Indexación y segmentación de arreglos.\n",
    "   #### - Tipos de datos y conversiones entre tipos.\n",
    "\n",
    "### 3. **Operaciones Matemáticas y Estadísticas**\n",
    "   #### - Operaciones aritméticas básicas: suma, resta, multiplicación y división.\n",
    "   #### - Funciones estadísticas: media, mediana, desviación estándar.\n",
    "\n",
    "### 4. **Manipulación de Arreglos**\n",
    "   #### - Cambio de forma con `reshape()`.\n",
    "   #### - Transposición y otras operaciones de reordenamiento.\n",
    "   #### - Combinación y división de arreglos.\n",
    "\n",
    "### 5. **Operaciones Avanzadas**\n",
    "   #### - Uso de funciones de álgebra lineal: productos matriciales, determinantes y valores singulares.\n",
    "\n",
    "\n",
    "# <br>\n",
    "# <br>\n",
    "# <br>"
   ]
  },
  {
   "cell_type": "markdown",
   "metadata": {},
   "source": [
    "# 1. Instalación de NumPy"
   ]
  },
  {
   "cell_type": "markdown",
   "metadata": {},
   "source": [
    "### - El único requisito previo para instalar NumPy es Python.\n",
    "\n",
    "###  - NumPy se puede instalar con conda, con pip, con un gestor de paquetes en macOS y Linux, o desde el código fuente.\n",
    "\n",
    "# <br>"
   ]
  },
  {
   "cell_type": "markdown",
   "metadata": {},
   "source": [
    "## 1.1  Crear con conda el ambiente virtual incluyendo  python [El nombre del ambiente es \"RNA\" (Redes Neuronales Artificiales)]\n",
    "\n",
    "```bash\n",
    "conda create -n RNA python\n",
    "```\n",
    "\n",
    "### Activar el ambiente \n",
    "\n",
    "```bash\n",
    "conda activate RNA\n",
    "```\n",
    "\n",
    "### Desactivar el ambiente\n",
    "\n",
    "```bash\n",
    "conda deactivate\n",
    "```\n",
    "\n",
    "# <br>\n"
   ]
  },
  {
   "cell_type": "markdown",
   "metadata": {},
   "source": [
    "## 1.2  Instalar NumPy\n",
    "\n",
    "### Usando el administrador de paquetes CONDA\n",
    "\n",
    "```bash\n",
    "conda install numpy\n",
    "\n",
    "```\n",
    "\n",
    "### Usando el administrador de paquetes PIP\n",
    "\n",
    "```bash\n",
    "pip install numpy\n",
    "```\n",
    "\n",
    "\n",
    "# <br>"
   ]
  },
  {
   "cell_type": "markdown",
   "metadata": {},
   "source": [
    "## 2. Conceptos básicos de NumPy\n",
    "\n",
    "### ¿Qué es una \"matriz\"?\n",
    "\n",
    "#### - En programación, una matriz es una estructura para almacenar y recuperar datos. \n",
    "\n",
    "#### - A menudo hablamos de una matriz como si fuera una cuadrícula en el espacio, con cada celda almacenando un elemento de los datos. \n",
    "\n",
    "#### - Por ejemplo, si cada elemento de los datos fuera un número, podríamos visualizar una matriz “unidimensional” como una lista:\n",
    "\n",
    "\n",
    "![image](./figs/fig-np-1d.png)\n",
    "\n",
    "\n",
    "#### Una matriz bidimensional sería como una tabla:\n",
    "\n",
    "![image](./figs/fig-np-2d.png)\n",
    "\n",
    "#### - Una matriz tridimensional sería como un conjunto de tablas, tal vez apiladas como si estuvieran impresas en páginas separadas. \n",
    "\n",
    "#### - En NumPy, esta idea se generaliza a una cantidad arbitraria de dimensiones, la clase de matriz fundamental se llama ndarray: representa una \"matriz N-dimensional\".\n",
    "\n",
    "#### - La mayoría de las matrices de NumPy tienen algunas restricciones. Por ejemplo:\n",
    "\n",
    "   ####  + Todos los elementos de la matriz deben ser del mismo tipo de datos.\n",
    "\n",
    "   ####  + Una vez creada, el tamaño total de la matriz no puede cambiar.\n",
    "\n",
    "   ####  + La forma debe ser \"rectangular\", no \"irregular\"; Por ejemplo, cada fila de una matriz bidimensional debe tener la misma cantidad de columnas.\n",
    "\n",
    "   ####  +  Cuando se cumplen estas condiciones, NumPy aprovecha estas características para hacer que la matriz sea más rápida, más eficiente en el uso de la memoria y más cómoda de usar que las estructuras de datos menos restrictivas.\n",
    "\n",
    "#### En este contexto, se tilizaremos la palabra \"matriz\" para referirnos a una instancia de ndarray.\n",
    "\n",
    "\n",
    "# <br>\n",
    "\n",
    "# <br>"
   ]
  },
  {
   "cell_type": "markdown",
   "metadata": {},
   "source": [
    "## 2.1 Fundamentos de las matrices\n",
    "#### Fundamentos de las matrices\n",
    "\n",
    "\n",
    "#### Una forma de inicializar una matriz es mediante una secuencia de Python, como una lista\n",
    "\n",
    "\n",
    "#### Para empezar a utilizar el paquete se debe importar el paquete NumPy, es común usar el alias $np$\n",
    "\n",
    "```python\n",
    "import numpy as np\n",
    "```\n"
   ]
  },
  {
   "cell_type": "code",
   "execution_count": null,
   "metadata": {},
   "outputs": [],
   "source": [
    "import numpy as np\n",
    "\n",
    "#Creación de un array de NumPy a partir de una lista proporcionada\n",
    "\n",
    "a = np.array([1, 2, 3, 4, 5, 6])\n",
    "print(a)"
   ]
  },
  {
   "cell_type": "markdown",
   "metadata": {},
   "source": [
    "## Acceso a los elementos\n",
    "\n",
    "-  ### Se puede acceder a los elementos de una matriz de varias maneras.\n",
    "\n",
    "-  ### Por ejemplo, podemos acceder a un elemento individual de esta matriz como lo haríamos con un elemento de la lista original: utilizando el índice entero del elemento entre corchetes.\n",
    "-  ### Se indexan desde la posición 0, similar a las listas de Python."
   ]
  },
  {
   "cell_type": "code",
   "execution_count": null,
   "metadata": {},
   "outputs": [],
   "source": [
    "# Extraer el valor del array en la posicón 0\n",
    "print(f\"a[0] = {a[0]}\")\n",
    "\n",
    "# Asignar el valor del array en la posicón 2\n",
    "a[2] = 10\n",
    "\n",
    "print(\"a[2] = {}\".format(a[2]))\n",
    "\n",
    "print(a)"
   ]
  },
  {
   "cell_type": "code",
   "execution_count": null,
   "metadata": {},
   "outputs": [],
   "source": [
    "# Slices (Rebanadas de datos)\n",
    "\n",
    "print(a[:3])\n",
    "\n",
    "print(a[2:])\n"
   ]
  },
  {
   "cell_type": "markdown",
   "metadata": {},
   "source": [
    "## Diferencia con slices\n",
    "- ### Una diferencia importante es que la indexación de una lista mediante \"slices\"  copia los elementos en una nueva lista, pero la segmentación de una matriz devuelve una vista.\n",
    "\n",
    "- ### La vista es un objeto que hace referencia a los datos de la matriz original. \n",
    "- ### La matriz original se puede modificar mediante la vista."
   ]
  },
  {
   "cell_type": "code",
   "execution_count": null,
   "metadata": {},
   "outputs": [],
   "source": [
    "# Se obtiene una slice de a, extrae los elementos de \"a\" a partir del índice 3 \n",
    "# a =[ 1  2 10  4  5  6]\n",
    "\n",
    "b = a[3:]\n",
    "\n",
    "print(b)\n",
    "\n",
    "# Se modifica la vista b (apunta a la dirección de memoria a)\n",
    "b[0] = 40\n",
    "\n",
    "# se imprime a que fue modificado a través de la vista b\n",
    "print(a)"
   ]
  },
  {
   "cell_type": "markdown",
   "metadata": {},
   "source": [
    "## Matrices de bidimensionales y de dimensiones superiores\n",
    "\n",
    "- ### Se pueden inicializar matrices bidimensionales y de dimensiones superiores a partir de secuencias anidadas de Python.\n",
    " \n",
    "- ### En NumPy, a la dimensión de una matriz se la denomina a veces “eje”. \n",
    " \n",
    "- ### Esta terminología puede resultar útil para distinguir entre la dimensionalidad de una matriz y la dimensionalidad de los datos representados por la matriz.\n",
    " \n",
    "- ### Por ejemplo, la matriz \"A\"  podría representar tres puntos, cada uno de ellos dentro de un espacio de cuatro dimensiones, pero A tiene solo dos “ejes”.\n",
    " \n",
    "- ### Otra diferencia entre una matriz y una lista de listas es que se puede acceder a un elemento de la matriz especificando el índice a lo largo de cada eje dentro de un único conjunto de corchetes, separados por comas. Por ejemplo, el elemento 8 está en la fila 1 y la columna 3: A[1,3]"
   ]
  },
  {
   "cell_type": "code",
   "execution_count": null,
   "metadata": {},
   "outputs": [],
   "source": [
    "A = np.array([[1, 2, 3, 4], \n",
    "              [5, 6, 7, 8], \n",
    "              [9, 10, 11, 12]])\n",
    "print(A)"
   ]
  },
  {
   "cell_type": "code",
   "execution_count": null,
   "metadata": {},
   "outputs": [],
   "source": [
    "# Acceso a la matriz dentro del mismo corchete\n",
    "print(A[1,3])\n",
    "\n",
    "# De manera haitual en Python\n",
    "print(A[1][3])\n"
   ]
  },
  {
   "cell_type": "markdown",
   "metadata": {},
   "source": [
    "## 2.1.1  Attributos de Array\n",
    "\n",
    "### ndim\n",
    "- ### El número de dimensiones de una matriz está contenido en el atributo ndim."
   ]
  },
  {
   "cell_type": "code",
   "execution_count": null,
   "metadata": {},
   "outputs": [],
   "source": [
    "print(A.ndim)"
   ]
  },
  {
   "cell_type": "markdown",
   "metadata": {},
   "source": [
    "\n",
    "## shape\n",
    "- ### La forma de una matriz es una tupla de números enteros no negativos que especifican la cantidad de elementos a lo largo de cada dimensión."
   ]
  },
  {
   "cell_type": "code",
   "execution_count": null,
   "metadata": {},
   "outputs": [],
   "source": [
    "print(A.shape)\n",
    "# matriz de 3 x 4 (renglones x columnas)"
   ]
  },
  {
   "cell_type": "markdown",
   "metadata": {},
   "source": [
    "\n",
    "## size\n",
    " - ### El número total fijo de elementos de la matriz está contenido en el atributo de tamaño."
   ]
  },
  {
   "cell_type": "code",
   "execution_count": null,
   "metadata": {},
   "outputs": [],
   "source": [
    "print(A.size)\n",
    "# matriz de 3 x 4 (12 elementos)"
   ]
  },
  {
   "cell_type": "markdown",
   "metadata": {},
   "source": [
    "\n",
    "## dtype\n",
    "- ### Las matrices suelen ser \"homogéneas\", lo que significa que contienen elementos de un solo \"tipo de datos\". El tipo de datos se registra en el atributo dtype."
   ]
  },
  {
   "cell_type": "code",
   "execution_count": null,
   "metadata": {},
   "outputs": [],
   "source": [
    "print(A.dtype)\n",
    "\n",
    "# para especificar el tamaño del tipo de dato en la creación del array, float de 64 bits\n",
    "B = np.array([[1, 2, 3, 4], \n",
    "              [5, 6, 7, 8], \n",
    "              [9, 10, 11, 12]], dtype=np.float64)\n",
    "print(B.dtype)              "
   ]
  },
  {
   "cell_type": "markdown",
   "metadata": {},
   "source": [
    "\n",
    "# <br>\n",
    "# <br>"
   ]
  },
  {
   "cell_type": "markdown",
   "metadata": {},
   "source": [
    "\n",
    "## 2.1.2 Tipos de datos y conversión"
   ]
  },
  {
   "cell_type": "code",
   "execution_count": null,
   "metadata": {},
   "outputs": [],
   "source": [
    "import numpy as np\n",
    "\n",
    "# Crear arreglos con diferentes tipos de datos\n",
    "\n",
    "arr_int = np.array([1, 2, 3, 4], dtype=np.int32)  # Arreglo de enteros 32 bits\n",
    "arr_float = np.array([1.1, 2.0, 3.0, 4.0], dtype=np.float64)  # Arreglo de flotantes 64 bits\n",
    "arr_str = np.array(['A', '2', '3', '4'], dtype=np.str_)  # Arreglo de cadenas unicode\n",
    "\n",
    "print(\"Arreglo de enteros:\")\n",
    "print(arr_int)\n",
    "print(\"Tipo de dato:\", arr_int.dtype)\n",
    "\n",
    "print(\"\\nArreglo de flotantes:\")\n",
    "print(arr_float)\n",
    "print(\"Tipo de dato:\", arr_float.dtype)\n",
    "\n",
    "print(\"\\nArreglo de cadenas:\")\n",
    "print(arr_str)\n",
    "print(\"Tipo de dato:\", arr_str.dtype)\n",
    "            "
   ]
  },
  {
   "cell_type": "code",
   "execution_count": null,
   "metadata": {},
   "outputs": [],
   "source": [
    "\n",
    "# Conversión de tipos de datos\n",
    "arr_int_to_float = arr_int.astype(np.float64)  # Convertir enteros a flotantes\n",
    "arr_float_to_int = arr_float.astype(np.int32)  # Convertir flotantes a enteros\n",
    "\n",
    "print(\"\\nArreglo de enteros convertido a flotantes:\")\n",
    "print(arr_int_to_float)\n",
    "print(\"Tipo de dato:\", arr_int_to_float.dtype)\n",
    "\n",
    "print(\"\\nArreglo de flotantes convertido a enteros:\")\n",
    "print(arr_float_to_int)\n",
    "print(\"Tipo de dato:\", arr_float_to_int.dtype)\n"
   ]
  },
  {
   "cell_type": "markdown",
   "metadata": {},
   "source": [
    "## Otros métodos útiles\n",
    "\n",
    "- Un objeto ndarray tiene muchos métodos que operan sobre la matriz o con ella de alguna manera, y que normalmente devuelven un resultado de matriz.\n",
    "\n",
    "-  Estos métodos se explican brevemente a continuación. (para ver los detalles visitar la documentación de numpy [ver numpy.org](https://numpy.org/doc/stable/reference/arrays.ndarray.html#arrays-ndarray)).\n",
    "\n",
    "| Método                | Descripción                                                       |\n",
    "|-----------------------|-------------------------------------------------------------------|\n",
    "| `numpy.zeros()`       | Crea un arreglo lleno de ceros con la forma especificada.         |\n",
    "| `numpy.ones()`        | Crea un arreglo lleno de unos con la forma especificada.          |\n",
    "| `numpy.empty()`       | Crea un arreglo sin inicializar con la forma especificada.        |\n",
    "| `numpy.arange()`      | Crea un arreglo con valores igualmente espaciados en un rango especificado. |\n",
    "| `numpy.linspace()`    | Crea un arreglo con un número específico de valores igualmente espaciados en un intervalo. |\n",
    "| `numpy.reshape()`     | Cambia la forma de un arreglo sin cambiar sus datos.              |\n",
    "| `numpy.flatten()`     | Devuelve una copia aplanada del arreglo en una dimensión.         |\n",
    "| `numpy.transpose()`   | Devuelve el transpuesto del arreglo.                              |\n",
    "| `numpy.sum()`         | Devuelve la suma de todos los elementos del arreglo o a lo largo de un eje especificado. |\n",
    "| `numpy.mean()`        | Devuelve la media de los elementos del arreglo.                   |\n",
    "| `numpy.std()`         | Devuelve la desviación estándar de los elementos del arreglo.     |\n",
    "| `numpy.min()`         | Devuelve el valor mínimo de los elementos del arreglo.            |\n",
    "| `numpy.max()`         | Devuelve el valor máximo de los elementos del arreglo.            |\n",
    "| `numpy.argmin()`      | Devuelve el índice del valor mínimo en el arreglo.                |\n",
    "| `numpy.argmax()`      | Devuelve el índice del valor máximo en el arreglo.                |\n",
    "| `numpy.sort()`        | Devuelve una copia ordenada del arreglo.                          |\n",
    "| `numpy.unique()`      | Devuelve los elementos únicos del arreglo.                        |\n",
    "| `numpy.where()`       | Devuelve los elementos seleccionados de X o Y dependiendo de la condición|\n"
   ]
  },
  {
   "cell_type": "markdown",
   "metadata": {},
   "source": [
    "### Ejemplos "
   ]
  },
  {
   "cell_type": "markdown",
   "metadata": {},
   "source": [
    "### np.ones"
   ]
  },
  {
   "cell_type": "code",
   "execution_count": null,
   "metadata": {},
   "outputs": [],
   "source": [
    "#Creacion de matriz inicializada con 1s\n",
    "np.ones((3,5))"
   ]
  },
  {
   "cell_type": "markdown",
   "metadata": {},
   "source": [
    "### np.zeros"
   ]
  },
  {
   "cell_type": "code",
   "execution_count": null,
   "metadata": {},
   "outputs": [],
   "source": [
    "#Creacion de matriz inicializada con 0s\n",
    "np.zeros((3,5))"
   ]
  },
  {
   "cell_type": "markdown",
   "metadata": {},
   "source": [
    "### np.eye"
   ]
  },
  {
   "cell_type": "code",
   "execution_count": null,
   "metadata": {},
   "outputs": [],
   "source": [
    "#Creacion de matriz cuadrada con 1s en la diagonal\n",
    "\n",
    "np.eye(5)"
   ]
  },
  {
   "cell_type": "markdown",
   "metadata": {},
   "source": [
    "### np.arange"
   ]
  },
  {
   "cell_type": "code",
   "execution_count": null,
   "metadata": {},
   "outputs": [],
   "source": [
    "# arange: crea un arreglo igualmente espaciado (inicio, parada, paso)\n",
    "print(np.arange(0,15, 1))\n",
    "\n",
    "print(np.arange(-10,10 + 1, 2))\n"
   ]
  },
  {
   "cell_type": "markdown",
   "metadata": {},
   "source": [
    "### np.random.rand"
   ]
  },
  {
   "cell_type": "code",
   "execution_count": null,
   "metadata": {},
   "outputs": [],
   "source": [
    "# rand: crea una muestra (muestras) de acuerdo a una distribución uniforme sobre  [0,1)\n",
    "# crea una matriz de 3x4\n",
    "a = np.random.rand(3,4)\n",
    "\n",
    "print(a)\n",
    "\n"
   ]
  },
  {
   "cell_type": "markdown",
   "metadata": {},
   "source": [
    "### np.random.randn\n",
    "\n",
    "<img src=\"figs/fig-dnormal.png\" width=\"30%\">\n",
    "<br>\n",
    "<br>\n",
    "\n",
    "<img src=\"figs/fig-dnormal_desv_estandard.png\" width=\"30%\" style=\"background-color: white;\">"
   ]
  },
  {
   "cell_type": "code",
   "execution_count": null,
   "metadata": {},
   "outputs": [],
   "source": [
    "# randn: crera una muestra (muestras) de acuerdo a la distribución estándar normal, media=0, varianza=1\n",
    "# crea una matriz de 3x4\n",
    "a = np.random.randn(3,4)\n",
    "\n",
    "print(a)\n",
    "\n"
   ]
  },
  {
   "cell_type": "markdown",
   "metadata": {},
   "source": [
    "### np.random.normal"
   ]
  },
  {
   "cell_type": "code",
   "execution_count": null,
   "metadata": {},
   "outputs": [],
   "source": [
    "# normal: Extraer muestras aleatorias de una distribución normal (gaussiana).\n",
    "# crea una lista con 10 elementos\n",
    "mu, sigma = 0, 0.1 # media y desviación estándard\n",
    "s = np.random.normal(mu, sigma, 10)\n",
    "print(s)\n",
    "\n"
   ]
  },
  {
   "cell_type": "code",
   "execution_count": null,
   "metadata": {},
   "outputs": [],
   "source": [
    "# normal: Extraer muestras aleatorias de una distribución normal (gaussiana).\n",
    "# crea una matriz de 3x4\n",
    "mu, sigma = 0, 0.1 # media y desviación estándard\n",
    "s = np.random.normal(mu, sigma, size=(3,4))\n",
    "\n",
    "print(s)\n"
   ]
  },
  {
   "cell_type": "markdown",
   "metadata": {},
   "source": [
    "### np.random.randint"
   ]
  },
  {
   "cell_type": "code",
   "execution_count": null,
   "metadata": {},
   "outputs": [],
   "source": [
    "import numpy as np\n",
    "# randintn: Devuelve números enteros aleatorios desde un número inicial  (inclusive) hasta un valor final (exclusivo) de una distribución uniforme discreta.\n",
    "#  np.random.randint(inicial, final, size=xxx)\n",
    "\n",
    "a = np.random.randint(-10,10)\n",
    "print(a)\n",
    "\n",
    "# Devuelve un número entre 1 y 10 \n",
    "a = np.random.randint(1,10)\n",
    "print(a)\n",
    "\n",
    "# Devuelve un vector número entre 1 y 20 \n",
    "a = np.random.randint(1,20, size=10)\n",
    "print(a)\n",
    "\n",
    "# Crea una matriz de 3x4\n",
    "a = np.random.randint(1,10, size=(3,4))\n",
    "print(a)\n"
   ]
  },
  {
   "cell_type": "markdown",
   "metadata": {},
   "source": [
    "### np.linspace"
   ]
  },
  {
   "cell_type": "code",
   "execution_count": null,
   "metadata": {},
   "outputs": [],
   "source": [
    "# linspace: Devuelve el número de muestras espaciadas uniformemente, calculadas sobre el intervalo [inicio, fin] dependiendo del valor endpoint=True (default) incluye al valor \"fin\".\n",
    "# \n",
    "import numpy as np\n",
    "x = np.linspace(0, 10, 30)  # 30 puntos entre 0 y 10\n",
    "print(x)\n"
   ]
  },
  {
   "cell_type": "markdown",
   "metadata": {},
   "source": [
    "### np.ones_like"
   ]
  },
  {
   "cell_type": "code",
   "execution_count": null,
   "metadata": {},
   "outputs": [],
   "source": [
    "# ones_like: Devuelve una matriz de unos con la misma forma y tipo que una matriz dada.\n",
    "\n",
    "# Crea una matriz de 3x4\n",
    "y = np.random.normal(mu, sigma, size=(3,4))\n",
    "print(y)\n",
    "b = np.ones_like(y)\n",
    "print(b)\n"
   ]
  },
  {
   "cell_type": "code",
   "execution_count": null,
   "metadata": {},
   "outputs": [],
   "source": []
  },
  {
   "cell_type": "markdown",
   "metadata": {},
   "source": [
    "### np.reshape"
   ]
  },
  {
   "cell_type": "code",
   "execution_count": null,
   "metadata": {},
   "outputs": [],
   "source": [
    "# Cambia la forma de un arreglo sin cambiar sus datos\n",
    "\n",
    "A = np.arange(0,15)\n",
    "print(\"A =\",  A)\n",
    "print(A.shape)\n",
    "\n",
    "A = A.reshape(3,5)\n",
    "print(\"forma nueva A = \")\n",
    "print(A)\n",
    "print(A.shape)\n"
   ]
  },
  {
   "cell_type": "markdown",
   "metadata": {},
   "source": [
    "### np.full"
   ]
  },
  {
   "cell_type": "code",
   "execution_count": null,
   "metadata": {},
   "outputs": [],
   "source": [
    "# Crea un matriz con valores inicializados a un valor específico ( matriz, valor)\n",
    "\n",
    "np.full((3, 4), 8)\n"
   ]
  },
  {
   "cell_type": "markdown",
   "metadata": {},
   "source": [
    "### np.insert"
   ]
  },
  {
   "cell_type": "code",
   "execution_count": null,
   "metadata": {},
   "outputs": [],
   "source": [
    "# Insertar valores a lo largo del eje dado antes de los índices dados.\n",
    "\n",
    "a = np.array([1, 2, 3, 4])\n",
    "\n",
    "# inserta el valor 5 en el índice 1\n",
    "print(np.insert(a, 1, 5))\n",
    "\n",
    "# inserta el arreglo a partir del índice 1, mueve los demás elementos\n",
    "print(np.insert(a, 1, [5, 6, 7, 8]))\n"
   ]
  },
  {
   "cell_type": "markdown",
   "metadata": {},
   "source": [
    "### np.flatten"
   ]
  },
  {
   "cell_type": "code",
   "execution_count": null,
   "metadata": {},
   "outputs": [],
   "source": [
    "# Devuelve una copia de la matriz colapsada en una dimensión.\n",
    "\n",
    "a = np.array([[1, 1], [2, 2], [3, 3]])\n",
    "print(a.flatten())\n"
   ]
  },
  {
   "cell_type": "markdown",
   "metadata": {},
   "source": [
    "### np.where\n",
    "### np.where(condition, [x, y ])"
   ]
  },
  {
   "cell_type": "code",
   "execution_count": null,
   "metadata": {},
   "outputs": [
    {
     "name": "stdout",
     "output_type": "stream",
     "text": [
      "[0 1 2 3 4 5 6 7 8 9]\n",
      "[ 0  1  2  3  4 50 60 70 80 90]\n"
     ]
    }
   ],
   "source": [
    "# Devuelve elementos elegidos entre x o y dependiendo de la condición.\n",
    "\n",
    "import numpy as np\n",
    "a = np.arange(10)\n",
    "print(a)\n",
    "r = np.where(a < 5, a, 10*a)\n",
    "\n",
    "print(r)\n"
   ]
  },
  {
   "cell_type": "code",
   "execution_count": 111,
   "metadata": {},
   "outputs": [
    {
     "name": "stdout",
     "output_type": "stream",
     "text": [
      "[[1 0 2]\n",
      " [3 2 0]\n",
      " [0 3 0]]\n"
     ]
    }
   ],
   "source": [
    "a = np.array([[1, 5, 2],\n",
    "              [3, 2, 4],\n",
    "              [8, 3, 6]])\n",
    "r = np.where(a < 4, a, 0)  \n",
    "print(r)"
   ]
  },
  {
   "cell_type": "markdown",
   "metadata": {},
   "source": [
    "## Ejemplo de graficación con matplotlib\n",
    "- ### `plot`: se utiliza comúnmente para crear gráficos de líneas que conectan puntos de datos, lo que es ideal para mostrar cómo cambian los datos en relación con otra variable, como el tiempo.\n",
    "- ### `bar`: se utiliza para crear gráficos de barras.\n",
    "\n",
    "- ### [https://matplotlib.org](https://matplotlib.org)\n"
   ]
  },
  {
   "cell_type": "code",
   "execution_count": null,
   "metadata": {},
   "outputs": [],
   "source": [
    "import matplotlib.pyplot as plt\n",
    "import numpy as np\n",
    "\n",
    "# Datos para el gráfico\n",
    "x = np.linspace(0, 10, 100)  # 100 puntos entre 0 y 10\n",
    "y1 = np.sin(x)               # Función seno\n",
    "y2 = np.cos(x)               # Función coseno\n",
    "\n",
    "# Crear una nueva figura\n",
    "plt.figure(figsize=(10, 6))\n",
    "\n",
    "# Graficar la función seno\n",
    "# datos tabulares para el eje x =x; eje y = y1\n",
    "\n",
    "plt.plot(x, y1, label='Seno', color='orange', linestyle=':', linewidth=2)\n",
    "\n",
    "# Graficar la función coseno\n",
    "\n",
    "plt.plot(x, y2, label='Coseno', color='green', linestyle='-', linewidth=2)\n",
    "\n",
    "# Añadir título y etiquetas\n",
    "plt.title('Funciones Seno y Coseno')\n",
    "plt.xlabel('Eje X')\n",
    "plt.ylabel('Eje Y')\n",
    "\n",
    "# Añadir leyendas\n",
    "plt.legend()\n",
    "\n",
    "# Mostrar el gráfico\n",
    "plt.grid(True)\n",
    "plt.show()"
   ]
  },
  {
   "cell_type": "code",
   "execution_count": null,
   "metadata": {},
   "outputs": [],
   "source": []
  },
  {
   "cell_type": "code",
   "execution_count": null,
   "metadata": {},
   "outputs": [],
   "source": []
  },
  {
   "cell_type": "markdown",
   "metadata": {},
   "source": [
    "## Ejemplo. Gráfico de barras\n",
    "### la función `bar` se utiliza para crear gráficos de barras. Los gráficos de barras son útiles para visualizar datos categóricos o discretos, permitiendo comparar fácilmente diferentes categorías en términos de una variable cuantitativa."
   ]
  },
  {
   "cell_type": "markdown",
   "metadata": {},
   "source": []
  },
  {
   "cell_type": "code",
   "execution_count": null,
   "metadata": {},
   "outputs": [],
   "source": [
    "import matplotlib.pyplot as plt\n",
    "\n",
    "\n",
    "# Datos de ejemplo\n",
    "materias = ['Matemáticas', 'Ciencia', 'Historia', 'Lengua', 'Arte']\n",
    "calificaciones = [85, 90, 78, 88, 95]\n",
    "\n",
    "# Crear el gráfico de barras\n",
    "plt.figure(figsize=(10, 6))\n",
    "plt.bar(materias, calificaciones, color='skyblue', edgecolor='black')\n",
    "\n",
    "# Añadir título y etiquetas\n",
    "plt.title('Calificaciones del Estudiante')\n",
    "plt.xlabel('Materias')\n",
    "plt.ylabel('Calificaciones')\n",
    "\n",
    "# Mostrar el gráfico\n",
    "plt.grid(axis='y', linestyle='--', alpha=0.5)\n",
    "plt.show()\n"
   ]
  },
  {
   "cell_type": "markdown",
   "metadata": {},
   "source": [
    "## Histogramas"
   ]
  },
  {
   "cell_type": "code",
   "execution_count": null,
   "metadata": {},
   "outputs": [],
   "source": [
    "import matplotlib.pyplot as plt\n",
    "import numpy as np\n",
    "\n",
    "# Generar arreglo\n",
    "arreglo = np.random.randn(1000)\n",
    "\n",
    "# Crear histograma  bins= tamaño del espaciado de los datos\n",
    "plt.hist(arreglo, bins=5, edgecolor='black')\n",
    "plt.title(\"Histograma de datos generados con randn\")\n",
    "plt.xlabel(\"Valor\")\n",
    "plt.ylabel(\"Frecuencia\")\n",
    "plt.show()"
   ]
  },
  {
   "cell_type": "code",
   "execution_count": null,
   "metadata": {},
   "outputs": [],
   "source": []
  },
  {
   "cell_type": "code",
   "execution_count": null,
   "metadata": {},
   "outputs": [],
   "source": []
  },
  {
   "cell_type": "markdown",
   "metadata": {},
   "source": [
    "# Ejercicios\n",
    "\n",
    "## 1. **Crear Matrices**:\n",
    "   - ### Crea una matriz $ 3 \\times 3 $ con valores enteros del 1 al 9.\n",
    "   - ### Crea una matriz diagonal de $ 4 \\times 4 $ con valores 1 en la diagonal principal y 0 en el resto.\n",
    "\n",
    "## 2. **Extraer Submatrices y Cambiar Forma**: \n",
    "   - ### Extrae una submatriz de $ 2 \\times 2 $  de una matriz $ 4 \\times 4 $.\n",
    "   - ### Cambia la forma de una matriz $ 6 \\times 2 $ a una matriz $ 3 \\times 4 $ que mantiene los elementos.\n",
    "\n",
    "\n",
    "## 3. **Graficación con matplotlib**: \n",
    "   - ### 3.1 Crear un conjunto de datos para un intervalo indicado (por ejemplo, -10 a 10) y aplicarlo para graficar las siguientes funciones:\n",
    "      - ### a) $ f(x) = 3x^4 - 5x^2 + 2x - 7 $\n",
    "      - ### b) Calcular la derivada de $ f'(x) $      \n",
    "      - ### c) Graficar la función $f(x)$ y su derivada $f'(x)$ en una misma gráfica\n",
    "\n",
    "   - ### Crear un conjunto de datos para un intervalo indicado (por ejemplo, -5 a 5) y aplicarlo para graficar las siguientes funciones:\n",
    "      - ### a) $ f(x) =  e^{-3x^2}  $\n",
    "      - ### b) Calcular la derivada de $ f'(x) $      \n",
    "      - ### c) Graficar la función $f(x)$ y su derivada $f'(x)$ en una misma gráfica\n",
    "   \n"
   ]
  },
  {
   "cell_type": "markdown",
   "metadata": {},
   "source": [
    " # </br>\n",
    " # </br>"
   ]
  },
  {
   "cell_type": "markdown",
   "metadata": {},
   "source": [
    "##  3. **Operaciones Matemáticas y Estadísticas**"
   ]
  },
  {
   "cell_type": "code",
   "execution_count": null,
   "metadata": {},
   "outputs": [],
   "source": [
    "import numpy as np\n",
    "\n",
    "# Crear arreglos\n",
    "A = np.array([1, 2, 3, 4])\n",
    "B = np.array([5, 6, 7, 8])\n",
    "\n",
    "\n",
    "# Operaciones elementales\n",
    "print(\"Arreglo  A:\", A)\n",
    "print(\"Arreglo B:\", B)\n",
    "\n",
    "# Suma y resta\n",
    "suma = A + B\n",
    "resta = A - B\n",
    "\n",
    "print(\"\\nSuma de A+B:\")\n",
    "print(suma)\n",
    "\n",
    "print(\"\\nResta de A-B :\")\n",
    "print(resta)\n"
   ]
  },
  {
   "cell_type": "code",
   "execution_count": null,
   "metadata": {},
   "outputs": [],
   "source": [
    "\n",
    "# Multiplicación y división (elemento a elemento)\n",
    "\n",
    "multiplicacion = A * B\n",
    "division = A / B\n",
    "\n",
    "print(\"\\nMultiplicación de arreglos:\")\n",
    "print(multiplicacion)\n",
    "\n",
    "print(\"\\nDivisión de arreglos:\")\n",
    "print(division)\n"
   ]
  },
  {
   "cell_type": "markdown",
   "metadata": {},
   "source": [
    "### Operaciones avanzadas"
   ]
  },
  {
   "cell_type": "code",
   "execution_count": null,
   "metadata": {},
   "outputs": [],
   "source": [
    "# Operaciones matemáticas\n",
    "\n",
    "print(\"\\nOperaciones matemáticas avanzadas:\")\n",
    "\n",
    "# Potencia\n",
    "C = np.power(A, 2)  # Eleva cada elemento de A al cuadrado\n",
    "print(\"Potencia (A^2):\")\n",
    "print(C)"
   ]
  },
  {
   "cell_type": "code",
   "execution_count": null,
   "metadata": {},
   "outputs": [],
   "source": [
    "\n",
    "# Raíz cuadrada\n",
    "\n",
    "D = np.sqrt(B)  # Calcula la raíz cuadrada de cada elemento de B\n",
    "print(\"Raíz cuadrada de B:\")\n",
    "print(D)\n",
    "\n"
   ]
  },
  {
   "cell_type": "code",
   "execution_count": null,
   "metadata": {},
   "outputs": [],
   "source": [
    "\n",
    "# Estadísticas\n",
    "print(\"\\nEstadísticas:\")\n",
    "\n",
    "# Media y desviación estándar\n",
    "media = np.mean(A)\n",
    "desviacion_estandar = np.std(A)\n",
    "\n",
    "print(\"Media de A:\")\n",
    "print(media)\n"
   ]
  },
  {
   "cell_type": "code",
   "execution_count": null,
   "metadata": {},
   "outputs": [],
   "source": [
    "\n",
    "print(\"Desviación estándar de A:\")\n",
    "print(desviacion_estandar)\n"
   ]
  },
  {
   "cell_type": "code",
   "execution_count": null,
   "metadata": {},
   "outputs": [],
   "source": [
    "\n",
    "# Máximo y mínimo\n",
    "\n",
    "maximo = np.max(B)\n",
    "minimo = np.min(B)\n",
    "\n",
    "print(\"\\nValor máximo de B:\")\n",
    "print(maximo)\n",
    "\n",
    "print(\"Valor mínimo de B:\")\n",
    "print(minimo)\n"
   ]
  },
  {
   "cell_type": "code",
   "execution_count": null,
   "metadata": {},
   "outputs": [],
   "source": [
    "\n",
    "# Producto escalar\n",
    "producto_escalar = np.dot(A, B)\n",
    "print(\"\\nProducto escalar de A y B:\")\n",
    "print(producto_escalar)"
   ]
  },
  {
   "cell_type": "code",
   "execution_count": null,
   "metadata": {},
   "outputs": [],
   "source": []
  },
  {
   "cell_type": "code",
   "execution_count": null,
   "metadata": {},
   "outputs": [],
   "source": []
  },
  {
   "cell_type": "markdown",
   "metadata": {},
   "source": [
    "# Ejercicios\n",
    "\n",
    "\n",
    "### 1. **Generación y graficación de datos**:\n",
    "   - ###  Simular temperaturas corporales (5000 elementos medidos) con una distribución normal. \n",
    "      -  ### `temperaturas = np.random.normal(36.5, 0.5, 5000)` \n",
    "   - ### Calcular y mostrar la media, la mediana y la desviación estándar de los datos. \n",
    "   - ### Graficar el histograma\n",
    "\n",
    "### 2. **Generación y graficación de datos**:\n",
    "   - ### Genera un arreglo aleatorio de 5000 elementos que representan las ventas mensuales de una empresa. Proporcionar la menor venta mensual, así como la mayor venta mensual.\n",
    "   - ### Calcular y mostrar la media, la mediana y la desviación estándar del arreglo.\n",
    "   - ### Generar el histograma\n",
    "\n",
    "### 3. **Generación y graficación de datos**:\n",
    "   - ### Genera un arreglo de 5000 elementos de enteros aleatorios que representan calificaciones entre 0 y 100 de un grupo de 5000 estudiantes. \n",
    "   - ### Calcular y mostrar la media, la mediana y la desviación estándar del arreglo.\n",
    "   - ### Generar el histograma"
   ]
  }
 ],
 "metadata": {
  "kernelspec": {
   "display_name": "RNA",
   "language": "python",
   "name": "python3"
  },
  "language_info": {
   "codemirror_mode": {
    "name": "ipython",
    "version": 3
   },
   "file_extension": ".py",
   "mimetype": "text/x-python",
   "name": "python",
   "nbconvert_exporter": "python",
   "pygments_lexer": "ipython3",
   "version": "3.13.1"
  }
 },
 "nbformat": 4,
 "nbformat_minor": 2
}
