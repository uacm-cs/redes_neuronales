{
 "cells": [
  {
   "cell_type": "code",
   "execution_count": 24,
   "metadata": {},
   "outputs": [
    {
     "name": "stdout",
     "output_type": "stream",
     "text": [
      "[0 0]\n",
      "Entrada: [0 0], Salida: 0\n",
      "[0 1]\n",
      "Entrada: [0 1], Salida: 0\n",
      "[1 0]\n",
      "Entrada: [1 0], Salida: 0\n",
      "[1 1]\n",
      "Entrada: [1 1], Salida: 1\n"
     ]
    }
   ],
   "source": [
    "import numpy as np\n",
    "class McCullochPittsNeuron:\n",
    "    def __init__(self, threshold):\n",
    "        \"\"\"\n",
    "        Inicializa la neurona con un umbral.\n",
    "        :param threshold: Umbral para la función de activación\n",
    "        \"\"\"\n",
    "        self.threshold = threshold\n",
    "\n",
    "    def activate(self, inputs):\n",
    "        \"\"\"\n",
    "        Calcula la salida de la neurona basada en las entradas.\n",
    "        :param inputs: Lista o array de entradas (0 o 1)\n",
    "        :return: Salida de la neurona (0 o 1)\n",
    "        \"\"\"\n",
    "        # Calcula la suma de las entradas\n",
    "        print(inputs)\n",
    "        weighted_sum = inputs.sum() # suma todos los elementos\n",
    "        \n",
    "        # Aplica la función de activación (umbral)\n",
    "        activacion = 0 \n",
    "        if weighted_sum >= self.threshold: \n",
    "            activacion = 1\n",
    "        return activacion\n",
    "\n",
    "# Configura el umbral para la función AND\n",
    "\n",
    "threshold = 2  # Umbral para que la suma sea al menos 2 para producir salida 1\n",
    "\n",
    "# Crea la neurona\n",
    "neuron = McCullochPittsNeuron(threshold)\n",
    "\n",
    "# Prueba la neurona con todas las combinaciones de entradas para la función AND\n",
    "inputs = np.array([\n",
    "    [0, 0],\n",
    "    [0, 1],\n",
    "    [1, 0],\n",
    "    [1, 1]\n",
    "])\n",
    "\n",
    "# Imprime las salidas para cada combinación de entradas\n",
    "for inp in inputs:\n",
    "    output = neuron.activate(inp)\n",
    "    print(f\"Entrada: {inp}, Salida: {output}\")"
   ]
  },
  {
   "cell_type": "markdown",
   "metadata": {},
   "source": [
    "## Ejercicio1: \n",
    "\n",
    "### Diseñar e implementar en una clase una unidad McCulloch–Pitts capaz de reconocer la función AND y OR para 3 variables."
   ]
  },
  {
   "cell_type": "code",
   "execution_count": null,
   "metadata": {},
   "outputs": [],
   "source": []
  },
  {
   "cell_type": "markdown",
   "metadata": {},
   "source": [
    "## Ejercicio 2: \n",
    "\n",
    "### Diseñar e implementar una unidad McCulloch–Pitts capaz de reconocer la letra \"T\" digitalizada en una matriz de 10 × 10 píxeles. Los píxeles oscuros deben codificarse como unos y los píxeles blancos como ceros."
   ]
  }
 ],
 "metadata": {
  "kernelspec": {
   "display_name": "PT",
   "language": "python",
   "name": "python3"
  },
  "language_info": {
   "codemirror_mode": {
    "name": "ipython",
    "version": 3
   },
   "file_extension": ".py",
   "mimetype": "text/x-python",
   "name": "python",
   "nbconvert_exporter": "python",
   "pygments_lexer": "ipython3",
   "version": "3.12.3"
  }
 },
 "nbformat": 4,
 "nbformat_minor": 2
}
