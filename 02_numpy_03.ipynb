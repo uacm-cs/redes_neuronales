{
 "cells": [
  {
   "cell_type": "markdown",
   "metadata": {},
   "source": [
    "![image](figs/fig-numpy.png)\n",
    "# Introducción a NumPy (...Continuación)\n"
   ]
  },
  {
   "cell_type": "markdown",
   "metadata": {},
   "source": [
    "\n",
    "### - NumPy es una de las bibliotecas fundamentales en el ecosistema de Python para la ciencia de datos y la computación numérica. \n",
    "\n",
    "### - Proporciona soporte para arreglos multidimensionales y funciones matemáticas avanzadas.\n",
    "### - La convierte en una herramienta esencial para el análisis de datos\n",
    "\n",
    "### [https://numpy.org](https://numpy.org)\n",
    "\n",
    "\n",
    "# <br>\n",
    "# <br>\n",
    "# <br>"
   ]
  },
  {
   "cell_type": "markdown",
   "metadata": {},
   "source": [
    "\n",
    "## ¿Qué es NumPy?\n",
    "\n",
    "### NumPy (Numerical Python) es una biblioteca de Python que ofrece:\n",
    "\n",
    "###  - **Arreglos multidimensionales:** Estructuras de datos eficientes para almacenar y manipular grandes conjuntos de datos numéricos.\n",
    "\n",
    "### - **Funciones matemáticas avanzadas:** Operaciones matemáticas y estadísticas que funcionan de manera eficiente en arreglos completos.\n",
    "\n",
    "### - **Operaciones vectorizadas:** Cálculos rápidos sin necesidad de bucles explícitos, gracias a la implementación en C.\n",
    "\n",
    "# <br>\n",
    "# <br>\n",
    "# <br>\n"
   ]
  },
  {
   "cell_type": "markdown",
   "metadata": {},
   "source": [
    "\n",
    "# Contenido del Tutorial\n",
    "\n",
    "###  1. **Instalación de NumPy**\n",
    "  #### - Cómo instalar NumPy usando `pip` o `conda`.\n",
    "\n",
    "### 2. **Conceptos Básicos de Arreglos**\n",
    "   #### - Creación de arreglos con `np.array()`.\n",
    "   #### - Indexación y segmentación de arreglos.\n",
    "   #### - Tipos de datos y conversiones entre tipos.\n",
    "\n",
    "### 3. **Operaciones Matemáticas y Estadísticas**\n",
    "   #### - Operaciones aritméticas básicas: suma, resta, multiplicación y división.\n",
    "   #### - Funciones estadísticas: media, mediana, desviación estándar.\n",
    "\n",
    "### 4. **Manipulación de Arreglos**\n",
    "   #### - Cambio de forma con `reshape()`.\n",
    "   #### - Transposición y otras operaciones de reordenamiento.\n",
    "   #### - Combinación y división de arreglos.\n",
    "\n",
    "### 5. **Operaciones Avanzadas**\n",
    "   #### - Uso de funciones de álgebra lineal: productos matriciales, determinantes y valores singulares.\n",
    "\n",
    "\n",
    "# <br>\n",
    "# <br>\n",
    "# <br>"
   ]
  },
  {
   "cell_type": "code",
   "execution_count": null,
   "metadata": {},
   "outputs": [],
   "source": []
  },
  {
   "cell_type": "code",
   "execution_count": null,
   "metadata": {},
   "outputs": [],
   "source": []
  },
  {
   "cell_type": "markdown",
   "metadata": {},
   "source": [
    "# Broadcasting \n",
    "- ### El término broadcasting describe cómo NumPy trata las matrices con diferentes formas durante las operaciones aritméticas. \n",
    "- ### Sujeto a ciertas restricciones, la matriz más pequeña se \"transmite\" a través de la matriz más grande para que tengan formas compatibles.\n",
    "\n",
    "- ### Las operaciones de NumPy se realizan normalmente en pares de matrices, elemento por elemento. En el caso más simple, las dos matrices deben tener exactamente la misma forma.\n",
    "\n",
    "- ### Al operar sobre dos matrices, NumPy compara sus formas elemento por elemento. Comienza con la dimensión final (es decir, la más a la derecha) y avanza hacia la izquierda. \n",
    "    - ### <span style=\"color:red;\">Dos dimensiones son compatibles cuando: son iguales o una de ellas es de dimensión 1.</span> \n",
    "\n",
    "- ### Las matrices de entrada no necesitan tener la misma cantidad de dimensiones. \n",
    "- ### <span style=\"color:red;\">La matriz resultante tendrá la misma cantidad de dimensiones que la matriz de entrada con la mayor cantidad de dimensiones</span>, donde el tamaño de cada dimensión es el tamaño más grande de la dimensión correspondiente entre las matrices de entrada. \n",
    "- ### Considere que se supone que las dimensiones faltantes tienen un tamaño de uno.\n",
    "\n",
    "\n",
    "- ### En numpy, la instrucción A * B calcula la multiplicación elemento por elemento de las matrices o tensores A y B. \n",
    "    - ### <span style=\"color:red;\">Si las matrices tienen formas diferentes, se convertirán automáticamente para que tengan formas compatibles</span> __replicando implícitamente ciertas dimensiones__; esto <span style=\"color:red;\"> se denomina broadcasting</span> . Las siguientes reglas de conversión se aplican en orden:\n",
    "\n",
    "        - #### 1. Si las dos matrices difieren en su número de dimensiones, la forma de la matriz que tiene menos dimensiones se rellena con dimensiones 1 en el lado izquierdo. Por ejemplo, un escalar se convertirá en un vector shape=(1,) y un vector en una matriz con una fila shape=(1,N).\n",
    "        - #### 2. Si la forma de las dos matrices no coincide en ninguna dimensión, la matriz con forma igual a 1 en esa dimensión se estira para que coincida con la otra forma, replicando el contenido correspondiente.\n",
    "        - #### 3. Si en alguna dimensión los tamaños no coinciden y ninguno es igual a 1, se genera un error.\n"
   ]
  },
  {
   "cell_type": "markdown",
   "metadata": {},
   "source": [
    "## Ejemplo 1\n",
    "![image](./figs/fig-broadcasting1.png)\n",
    "\n",
    "- Una matriz unidimensional (b) agregada a una matriz bidimensional (a) da como resultado un \"broadcasting\" si el número de elementos de la matriz unidimensional coincide con el número de columnas de la matriz bidimensional."
   ]
  },
  {
   "cell_type": "code",
   "execution_count": null,
   "metadata": {},
   "outputs": [],
   "source": [
    "import numpy as np\n",
    "\n",
    "a = np.array([[ 0.0,  0.0,  0.0],\n",
    "              [10.0, 10.0, 10.0],\n",
    "              [20.0, 20.0, 20.0],\n",
    "              [30.0, 30.0, 30.0]])\n",
    "\n",
    "b = np.array([1.0, 2.0, 3.0])\n",
    "\n",
    "print(f'a=\\n{a}\\n')\n",
    "print(f'a.shape=\\n{a.shape}\\n')\n",
    "\n",
    "print(f'b=\\n{b}\\n')\n",
    "print(f'b.shape=\\n{b.shape}\\n')\n",
    "\n",
    "print(f'a+b=\\n{a+b}\\n')\n",
    "\n"
   ]
  },
  {
   "cell_type": "markdown",
   "metadata": {},
   "source": [
    "## Ejemplo 2\n",
    "![image](./figs/fig-broadcasting2.png)\n"
   ]
  },
  {
   "cell_type": "code",
   "execution_count": null,
   "metadata": {},
   "outputs": [],
   "source": [
    "import numpy as np\n",
    "\n",
    "a = np.array([[ 0.],\n",
    "              [10.],\n",
    "              [20.],\n",
    "              [30.]])\n",
    "\n",
    "b = np.array([1.0, 2.0, 3.0])\n",
    "\n",
    "print(f'a=\\n{a}\\n')\n",
    "print(f'a.shape=\\n{a.shape}\\n')\n",
    "\n",
    "print(f'b=\\n{b}\\n')\n",
    "print(f'b.shape=\\n{b.shape}\\n')\n",
    "\n",
    "print(f'a+b=\\n{a+b}\\n')\n",
    "\n"
   ]
  },
  {
   "cell_type": "markdown",
   "metadata": {},
   "source": [
    "# Expandir dimensiones\n",
    "- ## $np.expand\\_dims$: Inserta un nuevo eje que aparecerá en la posición del eje en la forma de la matriz expandida.\n",
    "- ## Útil para hacer broadcasting"
   ]
  },
  {
   "cell_type": "markdown",
   "metadata": {},
   "source": [
    "## Vector fila, se agrega mediante axis=0"
   ]
  },
  {
   "cell_type": "code",
   "execution_count": null,
   "metadata": {},
   "outputs": [],
   "source": [
    "a = np.array([1, 2, 3])\n",
    "\n",
    "print(f'a=\\n{a}\\n')\n",
    "print(f'a.shape=\\n{a.shape}\\n')\n",
    "\n",
    "# agregar dimensión al vector a, lo convierte en vector fila\n",
    "b = np.expand_dims(a, axis=0)\n",
    "\n",
    "print(f'b=\\n{b}\\n')\n",
    "print(f'b.shape=\\n{b.shape}\\n')\n"
   ]
  },
  {
   "cell_type": "markdown",
   "metadata": {},
   "source": [
    "### Forma equivalente con $np.newaxis$ equivalente a agregar $None$ en el eje de las filas"
   ]
  },
  {
   "cell_type": "code",
   "execution_count": null,
   "metadata": {},
   "outputs": [],
   "source": [
    "\n",
    "# teniendo \"a\" como vector se puede agregar una dimensión adicional con np.newaxis es equivalente a gregar None \n",
    "\n",
    "a = np.array([0, 10, 20, 30])\n",
    "\n",
    "print(f'a=\\n{a}\\n')\n",
    "\n",
    "b = a[np.newaxis, :] # agrega una dimension en el eje de las filas\n",
    "\n",
    "print(f'b=\\n{b}\\n')\n",
    "print(f'b.shape=\\n{b.shape}\\n')\n",
    "\n",
    "c = a[None, :] # agrega una dimension en el eje de las filas\n",
    "\n",
    "print(f'c=\\n{c}\\n')\n",
    "print(f'c.shape=\\n{c.shape}\\n')"
   ]
  },
  {
   "cell_type": "markdown",
   "metadata": {},
   "source": [
    "## Vector columna, se agrega mediante axis=1"
   ]
  },
  {
   "cell_type": "code",
   "execution_count": null,
   "metadata": {},
   "outputs": [],
   "source": [
    "a = np.array([1, 2, 3])\n",
    "\n",
    "print(f'a=\\n{a}\\n')\n",
    "print(f'a.shape=\\n{a.shape}\\n')\n",
    "\n",
    "# # agregar dimensión al vector a, lo convierte en vector columna \n",
    "b = np.expand_dims(a, axis=1)\n",
    "\n",
    "print(f'b=\\n{b}\\n')\n",
    "print(f'b.shape=\\n{b.shape}\\n')\n"
   ]
  },
  {
   "cell_type": "markdown",
   "metadata": {},
   "source": [
    "### Forma equivalente con $np.newaxis$ equivalente a agregar $None$ en el eje de las columnas"
   ]
  },
  {
   "cell_type": "code",
   "execution_count": null,
   "metadata": {},
   "outputs": [],
   "source": [
    "\n",
    "# teniendo \"a\" como vector se puede agregar una dimensión adicional con np.newaxis es equivalente a gregar None \n",
    "\n",
    "a = np.array([0, 10, 20, 30])\n",
    "\n",
    "print(f'a=\\n{a}\\n')\n",
    "\n",
    "b = a[:, np.newaxis] # agrega una dimension en el eje de las columnas\n",
    "\n",
    "print(f'b=\\n{b}\\n')\n",
    "print(f'b.shape=\\n{b.shape}\\n')\n",
    "\n",
    "c = a[:, None] # agrega una dimension en el eje de las columnas\n",
    "\n",
    "print(f'c=\\n{c}\\n')\n",
    "print(f'c.shape=\\n{c.shape}\\n')\n",
    "\n",
    "\n"
   ]
  },
  {
   "cell_type": "markdown",
   "metadata": {},
   "source": [
    "### Formas equivalentes reshape: comodín -1  (ajusta los elementos para completar la forma adecuada, usar solo una dimensión no conocida) "
   ]
  },
  {
   "cell_type": "code",
   "execution_count": null,
   "metadata": {},
   "outputs": [],
   "source": [
    "# teniendo \"a\" como vector se puede agregar una dimensión adicional con np.newaxis es equivalente a usar reshape\n",
    "\n",
    "a = np.array([0, 10, 20, 30])\n",
    "\n",
    "print(f'a=\\n{a}\\n')\n",
    "\n",
    "b = a[np.newaxis, :] # agrega una dimension en el eje de las filas\n",
    "\n",
    "print(f'b=\\n{b}\\n')\n",
    "print(f'b.shape=\\n{b.shape}\\n')\n",
    "\n",
    "c = a.reshape(-1, 4) # agrega una dimension en el eje de las filas\n",
    "\n",
    "print(f'c=\\n{c}\\n')\n",
    "print(f'c.shape=\\n{c.shape}\\n')"
   ]
  },
  {
   "cell_type": "code",
   "execution_count": null,
   "metadata": {},
   "outputs": [],
   "source": [
    "# teniendo \"a\" como vector se puede agregar una dimensión adicional con np.newaxis es equivalente a usar reshape\n",
    "\n",
    "a = np.array([0, 10, 20, 30])\n",
    "\n",
    "print(f'a=\\n{a}\\n')\n",
    "\n",
    "b = a[:, np.newaxis] # agrega una dimension en el eje de las columnas\n",
    "\n",
    "print(f'b=\\n{b}\\n')\n",
    "print(f'b.shape=\\n{b.shape}\\n')\n",
    "\n",
    "c = a.reshape(4, -1) # agrega una dimension en el eje de las filas\n",
    "\n",
    "print(f'c=\\n{c}\\n')\n",
    "print(f'c.shape=\\n{c.shape}\\n')\n"
   ]
  },
  {
   "cell_type": "code",
   "execution_count": null,
   "metadata": {},
   "outputs": [],
   "source": [
    "a = np.array([[1, 2],\n",
    "              [3, 4]])\n",
    "\n",
    "\n",
    "b = np.array([[5, 6, 7],\n",
    "              [8, 9, 10]])\n",
    "\n",
    "c = a[np.newaxis,:].reshape()\n",
    "c+b"
   ]
  },
  {
   "cell_type": "markdown",
   "metadata": {},
   "source": [
    "# $np.squeeze$ Remover ejes (dimesión) de longitud 1 de la matriz."
   ]
  },
  {
   "cell_type": "code",
   "execution_count": 17,
   "metadata": {},
   "outputs": [
    {
     "name": "stdout",
     "output_type": "stream",
     "text": [
      "a=\n",
      "[[[0]\n",
      "  [1]\n",
      "  [2]]]\n",
      "\n",
      "a.shape=\n",
      "(1, 3, 1)\n",
      "\n",
      "b=\n",
      "[0 1 2]\n",
      "\n",
      "b.shape=\n",
      "(3,)\n",
      "\n"
     ]
    }
   ],
   "source": [
    "a = np.array([[[0], [1], [2]]])\n",
    "\n",
    "print(f\"a=\\n{a}\\n\")\n",
    "print(f\"a.shape=\\n{a.shape}\\n\")\n",
    "\n",
    "b = np.squeeze(a)\n",
    "\n",
    "print(f\"b=\\n{b}\\n\")\n",
    "print(f\"b.shape=\\n{b.shape}\\n\")\n"
   ]
  },
  {
   "cell_type": "code",
   "execution_count": 18,
   "metadata": {},
   "outputs": [
    {
     "name": "stdout",
     "output_type": "stream",
     "text": [
      "a=\n",
      "[[[0]\n",
      "  [1]\n",
      "  [2]]]\n",
      "\n",
      "a.shape=\n",
      "(1, 3, 1)\n",
      "\n",
      "b=\n",
      "[[0]\n",
      " [1]\n",
      " [2]]\n",
      "\n",
      "b.shape=\n",
      "(3, 1)\n",
      "\n"
     ]
    }
   ],
   "source": [
    "# Eliminar eje 0\n",
    "a = np.array([[[0], [1], [2]]])\n",
    "\n",
    "print(f\"a=\\n{a}\\n\")\n",
    "print(f\"a.shape=\\n{a.shape}\\n\")\n",
    "\n",
    "b = np.squeeze(a, axis=0)\n",
    "\n",
    "print(f\"b=\\n{b}\\n\")\n",
    "print(f\"b.shape=\\n{b.shape}\\n\")\n"
   ]
  },
  {
   "cell_type": "code",
   "execution_count": 19,
   "metadata": {},
   "outputs": [
    {
     "name": "stdout",
     "output_type": "stream",
     "text": [
      "a=\n",
      "[[[0]\n",
      "  [1]\n",
      "  [2]]]\n",
      "\n",
      "a.shape=\n",
      "(1, 3, 1)\n",
      "\n",
      "b=\n",
      "[[0 1 2]]\n",
      "\n",
      "b.shape=\n",
      "(1, 3)\n",
      "\n"
     ]
    }
   ],
   "source": [
    "# Eliminar eje 2\n",
    "a = np.array([[[0], [1], [2]]])\n",
    "\n",
    "print(f\"a=\\n{a}\\n\")\n",
    "print(f\"a.shape=\\n{a.shape}\\n\")\n",
    "\n",
    "b = np.squeeze(a, axis=2)\n",
    "\n",
    "print(f\"b=\\n{b}\\n\")\n",
    "print(f\"b.shape=\\n{b.shape}\\n\")\n"
   ]
  },
  {
   "cell_type": "code",
   "execution_count": null,
   "metadata": {},
   "outputs": [],
   "source": []
  },
  {
   "cell_type": "code",
   "execution_count": null,
   "metadata": {},
   "outputs": [],
   "source": []
  },
  {
   "cell_type": "markdown",
   "metadata": {},
   "source": [
    "# Ejercicios\n",
    "\n",
    "## Dada la siguiente: matriz score_matrix Realizar las operaciones que se indican\n",
    "\n",
    "```Python\n",
    "# Definir un conjunto de datos de ventas (4 tiendas x 3 meses)\n",
    "sales_data = np.array([\n",
    "    [200000, 220000, 250000],  # Ventas de la tienda 1\n",
    "    [150000, 180000, 210000],  # Ventas de la tienda 2\n",
    "    [300000, 320000, 350000],  # Ventas de la tienda 3\n",
    "    [400000, 420000, 430000]   # Ventas de la tienda 4\n",
    "])\n",
    "\n",
    "```\n",
    "\n",
    "- ### Normalizar los datos de acuerdo al mes por medio de las matrices y vectores correspondientes:\n",
    "   - ### dato\\_normalizado =  (datos de ventas  - media de ventas) / desviación estandar de las ventas\n",
    "   - ### Mostrar la media por mes\n",
    "   - ### Mostrar la desviación estándar por mes\n",
    "   - ### Mostrar los datos normalizados\n",
    "\n",
    "\n"
   ]
  },
  {
   "cell_type": "code",
   "execution_count": null,
   "metadata": {},
   "outputs": [],
   "source": []
  },
  {
   "cell_type": "code",
   "execution_count": null,
   "metadata": {},
   "outputs": [],
   "source": []
  },
  {
   "cell_type": "markdown",
   "metadata": {},
   "source": [
    "## Ejercicios Broadcasting"
   ]
  },
  {
   "cell_type": "markdown",
   "metadata": {},
   "source": [
    "# Ejercicio1. \n",
    "\n",
    "### Dada la siguientes definiciones para A y v, explicar ¿Qué pasos sigue NumPy para realizar esta suma y cómo afecta el resultado final?\"\n",
    "\n",
    "```Python\n",
    "import numpy as np\n",
    "\n",
    "A = np.array([[1, 2, 3],\n",
    "              [4, 5, 6],\n",
    "              [7, 8, 9]])\n",
    "\n",
    "v = np.array([1, 0, -1])\n",
    "\n",
    "B = A + v\n",
    "\n",
    "```\n",
    "\n"
   ]
  },
  {
   "cell_type": "markdown",
   "metadata": {},
   "source": [
    "## Ejercicio2. \n",
    "\n",
    "### Dada la siguientes definiciones para A y v, explicar ¿Qué pasos sigue NumPy para realizar esta suma y cómo afecta el resultado final?\"\n",
    "\n",
    "\n",
    "```Python\n",
    "import numpy as np\n",
    "\n",
    "# Crear una matriz 3x3\n",
    "A = np.array([[1, 2, 3],\n",
    "              [4, 5, 6],\n",
    "              [7, 8, 9]])\n",
    "\n",
    "\n",
    "v = np.array([[1],\n",
    "              [2],\n",
    "              [3]])\n",
    "\n",
    "\n",
    "B = A * v\n",
    "\n",
    "print(B)\n",
    "\n",
    "```"
   ]
  },
  {
   "cell_type": "markdown",
   "metadata": {},
   "source": [
    "## Ejercicio3. \n",
    "\n",
    "### Dada la siguientes definiciones para A y v, explicar ¿Qué pasos sigue NumPy para realizar esta suma y cómo afecta el resultado final?\"\n",
    "\n",
    "```Python\n",
    "import numpy as np\n",
    "\n",
    "# Crear una matriz 3x3\n",
    "A = np.array([[1, 2, 3],\n",
    "              [4, 5, 6],\n",
    "              [7, 8, 9]])\n",
    "\n",
    "# Sumar un escalar a la matriz\n",
    "c = 10\n",
    "B = A + c\n",
    "\n",
    "print(B)\n",
    "\n",
    "```"
   ]
  },
  {
   "cell_type": "markdown",
   "metadata": {},
   "source": [
    "## Ejercicio4. \n",
    "\n",
    "### Dada la siguientes definiciones para A y v, explicar ¿Qué pasos sigue NumPy para realizar esta suma y cómo afecta el resultado final?\"\n",
    "\n",
    "```Python\n",
    "import numpy as np\n",
    "\n",
    "# Crear un vector de longitud 3\n",
    "v = np.array([1, 2, 3])\n",
    "\n",
    "# Crear una matriz 2x3\n",
    "A = np.array([[4, 5, 6],\n",
    "              [7, 8, 9]])\n",
    "\n",
    "# Multiplicar el vector por la matriz\n",
    "B = v * A\n",
    "\n",
    "print(B)\n",
    "```"
   ]
  },
  {
   "cell_type": "markdown",
   "metadata": {},
   "source": [
    "## Ejercicio5. \n",
    "\n",
    "### Dada la siguientes definiciones para A y v, explicar ¿Qué pasos sigue NumPy para realizar esta suma y cómo afecta el resultado final?\"\n",
    "\n",
    "```Python\n",
    "import numpy as np\n",
    "\n",
    "# Crear una matriz 4x3\n",
    "A = np.array([[1, 2, 3],\n",
    "              [4, 5, 6],\n",
    "              [7, 8, 9],\n",
    "              [10, 11, 12]])\n",
    "\n",
    "\n",
    "mean1 = A.mean(axis=0)\n",
    "print(mean1)\n",
    "\n",
    "mean2 = A.mean(axis=0, keepdims=True)\n",
    "print(mean2)\n",
    "\n",
    "\n",
    "mean3 = A.mean(axis=1)\n",
    "print(mean3)\n",
    "\n",
    "mean4 = A.mean(axis=1, keepdims=True)\n",
    "print(mean4)\n",
    "\n",
    "```"
   ]
  },
  {
   "cell_type": "markdown",
   "metadata": {},
   "source": [
    "## Ejercicio6. \n",
    "\n",
    "## En este ejemplo de normalización de filas presentado, explica cómo se realiza el broadcasting para restar la media y dividir por la desviación estándar en cada fila de la matriz. Detalla cómo NumPy ajusta las dimensiones de los arreglos mean y std para permitir estas operaciones. Si es el caso, indicar cómo se expanden las dimensiones y replican los datos.\n",
    "\n",
    "```Python\n",
    "import numpy as np\n",
    "# Crear una matriz 4x3\n",
    "A = np.array([[1, 2, 3],\n",
    "              [4, 5, 6],\n",
    "              [7, 8, 9],\n",
    "              [10, 11, 12]])\n",
    "\n",
    "# Calcular la media \n",
    "mean = A.mean(axis=1, keepdims=True)\n",
    "\n",
    "# Calcular la desviación estándar\n",
    "std = A.std(axis=1, keepdims=True)\n",
    "\n",
    "# Normalizar  (restar la media y dividir por la desviación estándar)\n",
    "B = (A - mean) / std\n",
    "\n",
    "print(B)\n",
    "\n",
    "```"
   ]
  },
  {
   "cell_type": "code",
   "execution_count": null,
   "metadata": {},
   "outputs": [],
   "source": []
  },
  {
   "cell_type": "markdown",
   "metadata": {},
   "source": [
    "# Ejercicio7\n",
    "\n",
    "### En el ejemplo de cálculo de la distancia euclidiana, explica cómo se utiliza el broadcasting para restar el reference_point de todos los puntos en la matriz points. Además, describe cómo se aplica el broadcasting en la operación de elevación al cuadrado y la suma de los componentes para calcular la distancia.\n",
    "\n",
    "### - Práctica: Adicionalmente, después de realizar la actividad anterior, modificar el programa para que el resultado mantenga la forma de la matriz original. \n",
    "\n",
    "\n",
    "\n",
    "### La ecuación de la distancia euclidiana entre dos puntos $ A = (x_1, y_1) $ y $ B = (x_2, y_2) $ en un espacio 2D es:\n",
    "\n",
    "\n",
    "</br>\n",
    "\n",
    "$\n",
    "\\Large d(A, B) = \\sqrt{(x_2 - x_1)^2 + (y_2 - y_1)^2}\n",
    "$\n",
    "\n",
    "</br>\n",
    "\n",
    "\n",
    "```Python\n",
    "import numpy as np\n",
    "\n",
    "# Crear una matriz 5x2 donde cada fila es un punto (x, y) en 2D\n",
    "points = np.array([[1, 2],\n",
    "                   [3, 4],\n",
    "                   [5, 6],\n",
    "                   [7, 8],\n",
    "                   [9, 10]])\n",
    "\n",
    "# Definir un punto de referencia en 2D\n",
    "reference_point = np.array([4, 5])\n",
    "\n",
    "# Calcular la distancia euclidiana entre cada punto y el punto de referencia\n",
    "distances = np.sqrt(np.sum((points - reference_point) ** 2, axis=1))\n",
    "\n",
    "print(distances)\n",
    "\n",
    "```"
   ]
  },
  {
   "cell_type": "code",
   "execution_count": null,
   "metadata": {},
   "outputs": [],
   "source": []
  },
  {
   "cell_type": "code",
   "execution_count": null,
   "metadata": {},
   "outputs": [],
   "source": []
  },
  {
   "cell_type": "markdown",
   "metadata": {},
   "source": [
    "# Representación de datos $X$, pesos $W$,  sesgos $B$ ($bias$) y neuronas en el contexto de redes neuronales\n",
    "\n",
    "<img src=\"figs/fig-repr_red_neuronal.png\" width=\"500\">\n",
    "\n",
    "\n",
    "## En las siguientes representaciones, \n",
    " - ### $X$ : representa un conjunto de datos;  cada fila es un ejemplo y cada elemento (columna) representan una característica de los datos de entrenamiento, por ejemplo $x_{11}$\n",
    "$$\n",
    "\\mathbf{X} = \\begin{bmatrix}\n",
    "x_{11} & x_{12} & \\cdots & x_{1n} \\\\\n",
    "x_{21} & x_{22} & \\cdots & x_{2n} \\\\\n",
    "\\vdots & \\vdots & \\ddots & \\vdots \\\\\n",
    "x_{m1} & x_{m2} & \\cdots & x_{mn} \\\\\n",
    "\\end{bmatrix} \\in \\mathbb{R}^{m \\times n}\n",
    "\n",
    "$$\n",
    "\n",
    " - ### $W$ : representa un conjunto de neuronas; cada fila es una reurona y cada cada elemento (columna) representan un peso $w_{ik}$; neurona $i$; característica $k$\n",
    " - ### La neurona $N_1$ esta definida por la fila 1: \n",
    "    $$ N_1 = \\begin{bmatrix}w_{11} & w_{12} & \\cdots & w_{1n}\\end{bmatrix}$$\n",
    "\n",
    "\n",
    "\n",
    "\n",
    "$$\n",
    "\\mathbf{W} = \\begin{bmatrix}\n",
    "w_{11} & w_{12} & \\cdots & w_{1n} \\\\\n",
    "w_{21} & w_{22} & \\cdots & w_{2n} \\\\\n",
    "\\vdots & \\vdots & \\ddots & \\vdots \\\\\n",
    "w_{m1} & w_{m2} & \\cdots & w_{mn} \\\\\n",
    "\\end{bmatrix} \\in \\mathbb{R}^{m \\times n}\n",
    "$$\n",
    "\n",
    "\n",
    "### La salida de cada neurona para la imagen del ejemplo se calcularía de la siguiente forma:\n",
    "\n",
    "\n",
    "$$\n",
    "    \\mathbf{Z} =  \\mathbf{X} \\cdot\\mathbf{W}^\\top + \\mathbf{B} = \n",
    "    \\begin{bmatrix}\n",
    "    x_1 & x_2 & x_3 & x_4 \n",
    "    \\end{bmatrix}\n",
    "    \\cdot\n",
    "    \\begin{bmatrix}\n",
    "    w_{11} & w_{21} \\\\\n",
    "    w_{12} & w_{22} \\\\\n",
    "    w_{13} & w_{23} \\\\\n",
    "    w_{14} & w_{24}\n",
    "    \\end{bmatrix}\n",
    "    \n",
    "    +\n",
    "    \\begin{bmatrix}\n",
    "    b_1 & b_2 \n",
    "    \\end{bmatrix}\n",
    "$$\n",
    "\n",
    "\n",
    "\n"
   ]
  },
  {
   "cell_type": "code",
   "execution_count": null,
   "metadata": {},
   "outputs": [],
   "source": []
  },
  {
   "cell_type": "markdown",
   "metadata": {},
   "source": [
    "# Ejercicio"
   ]
  },
  {
   "cell_type": "markdown",
   "metadata": {},
   "source": [
    "## Para los siguientes datos, calcular la operación de cada neurona.\n",
    "## Ejercicio1: \n",
    "- ### Hacer el cálculo para una capa de una red neuronal con el siguiente ejemplo de entrenamiento que contiene 10 características\n",
    "- ### Definir la matriz de neuronas-pesos $W$ con 2 neuronas, inicializarla de forma aleatoria\n",
    "- ### Definir el vector de sesgos $B$ inicializarlo de manera aleatoria\n",
    "\n",
    "$$ \n",
    "\\mathbf{X} = \\begin{bmatrix}\n",
    "1.2 & 0.5 & -0.8 & 2.1 & -1.5 & 0.3 & 1.8 & -0.2 & 0.9 & 1.1 \\\\\n",
    "\\end{bmatrix} \\in \\mathbb{R}^{1 \\times 10}\n",
    "$$\n",
    "\n",
    "</br>\n",
    "</br>\n",
    "</br>\n",
    "\n",
    "## Ejercicio2: \n",
    "- ### Hacer el cálculo para una capa de una red neuronal con el siguiente conjunto  de entrenamiento (3 ejemplos) que contiene 10 características\n",
    "- ### Definir la matriz de neuronas-pesos $W$ con 2 neuronas, inicializarla de forma aleatoria\n",
    "- ### Definir el vector de sesgos $B$ inicializarlo de manera aleatoria\n",
    "\n",
    "\n",
    "$$ \n",
    "\\mathbf{X} = \\begin{bmatrix}\n",
    "1.2 & 0.5 & -0.8 & 2.1 & -1.5 & 0.3 & 1.8 & -0.2 & 0.9 & 1.1 \\\\\n",
    "0.8 & 1.2 & -0.3 & 1.5 & -0.8 & 0.6 & 2.1 & 0.1 & 1.2 & 0.7 \\\\\n",
    "-0.5 & 1.8 & 0.2 & 0.9 & -1.2 & 1.1 & 0.4 & -0.3 & 0.8 & 1.5 \\\\\n",
    "\\end{bmatrix} \\in \\mathbb{R}^{3 \\times 10}\n",
    "$$\n"
   ]
  }
 ],
 "metadata": {
  "kernelspec": {
   "display_name": "RNA",
   "language": "python",
   "name": "python3"
  },
  "language_info": {
   "codemirror_mode": {
    "name": "ipython",
    "version": 3
   },
   "file_extension": ".py",
   "mimetype": "text/x-python",
   "name": "python",
   "nbconvert_exporter": "python",
   "pygments_lexer": "ipython3",
   "version": "3.13.1"
  }
 },
 "nbformat": 4,
 "nbformat_minor": 2
}
